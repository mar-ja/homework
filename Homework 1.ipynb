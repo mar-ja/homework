{
 "cells": [
  {
   "cell_type": "markdown",
   "metadata": {},
   "source": [
    "To complete the homework simply fill in your answers in this jupyter notebook!\n",
    "\n",
    "Remember that there are many ways in which markup cells can be used and you can add useful things such as references and images to better explain your answers.\n",
    "\n",
    "It is perfectly fine if you copy your answer from somewhere else in the internet as long as you understand the code you copied and cite the source. However, refrain from asking help for your colleagues (unless you're really struggling) as the ability to find information online is crucial for any tech role you might want to have in the future.\n",
    "\n",
    "<h1> Question 1: Multiple prints</h1>\n",
    "Create 3 different variables of different types and print their values using a single print statement."
   ]
  },
  {
   "cell_type": "code",
   "execution_count": 2,
   "metadata": {},
   "outputs": [
    {
     "name": "stdout",
     "output_type": "stream",
     "text": [
      "1 x 1.145\n"
     ]
    }
   ],
   "source": [
    "x = 1\n",
    "y = \"x\"\n",
    "z = 1.145\n",
    "\n",
    "print(x,y,z)"
   ]
  },
  {
   "cell_type": "markdown",
   "metadata": {},
   "source": [
    "<h1> Question 2: Data structures</h1>\n",
    "Create two variables containing each a nested list and a nested dictionary and demonstrate how to access specific items of it."
   ]
  },
  {
   "cell_type": "code",
   "execution_count": 3,
   "metadata": {},
   "outputs": [
    {
     "name": "stdout",
     "output_type": "stream",
     "text": [
      "20\n",
      "Dr. Smith\n"
     ]
    }
   ],
   "source": [
    "students = [\n",
    "    [\"John\", 20, [\"Math\", \"Physics\", \"Computer Science\"]],\n",
    "    [\"Emma\", 19, [\"Biology\", \"Chemistry\", \"Statistics\"]],\n",
    "    [\"Mike\", 21, [\"History\", \"Literature\", \"Philosophy\"]]\n",
    "]\n",
    "\n",
    "# NESTED DICTIONARY \n",
    "# This structure represents a school with departments, teachers and budget information\n",
    "\n",
    "school_data = {\n",
    "    \"Science Department\": {\n",
    "        \"Head\": \"Dr. Smith\",\n",
    "        \"Teachers\": {\n",
    "            \"Physics\": [\"Mr. Johnson\", \"Ms. Williams\"],\n",
    "            \"Chemistry\": [\"Dr. Brown\", \"Mr. Davis\"]\n",
    "        },\n",
    "        \"Budget\": 50000\n",
    "    },\n",
    "    \"Arts Department\": {\n",
    "        \"Head\": \"Mrs. Anderson\",\n",
    "        \"Teachers\": {\n",
    "            \"Literature\": [\"Ms. Wilson\", \"Mr. Taylor\"],\n",
    "            \"History\": [\"Dr. Martinez\"]\n",
    "        },\n",
    "        \"Budget\": 35000\n",
    "    }\n",
    "}\n",
    "\n",
    "# Accessing elements in nested list using multiple index positions\n",
    "\n",
    "    # Accesses first student's age (John's age)\n",
    "    # First index [0] selects first student list\n",
    "    # Second index [1] selects age from that student's data\n",
    "\n",
    "print(students[0][1]) \n",
    "\n",
    "\n",
    "# Accessing nested dictionary values using multiple keys\n",
    "\n",
    "    # Accesses Science Department head\n",
    "    # First key accesses Science Department\n",
    "    # Second key accesses Head value\n",
    "    \n",
    "print(school_data[\"Science Department\"][\"Head\"]) \n"
   ]
  },
  {
   "cell_type": "markdown",
   "metadata": {},
   "source": [
    "Now consider the following list,"
   ]
  },
  {
   "cell_type": "code",
   "execution_count": 5,
   "metadata": {},
   "outputs": [
    {
     "name": "stdout",
     "output_type": "stream",
     "text": [
      "Numbers smaller than 5: [1, 2, 3, 4]\n",
      "Even numbers (using loop): [2, 4, 6, 8]\n",
      "Even numbers (using list comprehension): [2, 4, 6, 8]\n",
      "Multiples of 3 (using list comprehension): [3, 6, 9]\n",
      "\n",
      "Bonus - F-string sentences:\n",
      "The number 1 is at index 0 in the list!\n",
      "The number 2 is at index 1 in the list!\n",
      "The number 3 is at index 2 in the list!\n",
      "The number 4 is at index 3 in the list!\n",
      "The number 5 is at index 4 in the list!\n",
      "The number 6 is at index 5 in the list!\n",
      "The number 7 is at index 6 in the list!\n",
      "The number 8 is at index 7 in the list!\n",
      "The number 9 is at index 8 in the list!\n"
     ]
    }
   ],
   "source": [
    "a_list = [1,2,3,4,5,6,7,8,9]\n",
    "\n",
    "smaller_than_5 = a_list[:4]\n",
    "print(\"Numbers smaller than 5:\", smaller_than_5)\n",
    "\n",
    "even_numbers_loop = []\n",
    "for num in a_list:\n",
    "    if num % 2 == 0:  \n",
    "        even_numbers_loop.append(num)\n",
    "print(\"Even numbers (using loop):\", even_numbers_loop)\n",
    "\n",
    "\n",
    "# Alternative method using list comprehension \n",
    "\n",
    "even_numbers_comprehension = [num for num in a_list if num % 2 == 0]\n",
    "print(\"Even numbers (using list comprehension):\", even_numbers_comprehension)\n",
    "\n",
    "multiples_of_3_comprehension = [num for num in a_list if num % 3 == 0]\n",
    "print(\"Multiples of 3 (using list comprehension):\", multiples_of_3_comprehension)\n",
    "\n",
    "print(\"\\nBonus - F-string sentences:\")\n",
    "for num in a_list:\n",
    "    print(f\"The number {num} is at index {a_list.index(num)} in the list!\")\n"
   ]
  },
  {
   "cell_type": "markdown",
   "metadata": {},
   "source": [
    "1 - slice this list (by index) to contain only the numbers smaller than 5; <br>\n",
    "2 - make a loop to create a new list containing only the EVEN numbers of this list (bonus point if you use a list comprehension!!);<br>\n",
    "3 - make a loop to create a new list containing only the numbers that are multiples of 3;<br>\n",
    "Bonus - make a loop that will print every item on the list inside a sentence using a f-string."
   ]
  },
  {
   "cell_type": "markdown",
   "metadata": {},
   "source": [
    "<h1>Question 3: Creating functions</h1>\n",
    "\n",
    "Create a function that takes a list of numbers and convert them into strings. (bonus point if you use a list comprehension!!)"
   ]
  },
  {
   "cell_type": "code",
   "execution_count": 8,
   "metadata": {},
   "outputs": [
    {
     "data": {
      "text/plain": [
       "1"
      ]
     },
     "execution_count": 8,
     "metadata": {},
     "output_type": "execute_result"
    }
   ],
   "source": [
    "1"
   ]
  },
  {
   "cell_type": "code",
   "execution_count": 9,
   "metadata": {},
   "outputs": [
    {
     "data": {
      "text/plain": [
       "'1'"
      ]
     },
     "execution_count": 9,
     "metadata": {},
     "output_type": "execute_result"
    }
   ],
   "source": [
    "variable = 1\n",
    "str(variable)"
   ]
  },
  {
   "cell_type": "code",
   "execution_count": 11,
   "metadata": {},
   "outputs": [],
   "source": [
    "yet_another_list = []"
   ]
  },
  {
   "cell_type": "code",
   "execution_count": 12,
   "metadata": {},
   "outputs": [
    {
     "data": {
      "text/plain": [
       "[]"
      ]
     },
     "execution_count": 12,
     "metadata": {},
     "output_type": "execute_result"
    }
   ],
   "source": [
    "yet_another_list"
   ]
  },
  {
   "cell_type": "code",
   "execution_count": 13,
   "metadata": {},
   "outputs": [],
   "source": [
    "yet_another_list.append('cat')"
   ]
  },
  {
   "cell_type": "code",
   "execution_count": 14,
   "metadata": {},
   "outputs": [
    {
     "data": {
      "text/plain": [
       "['cat']"
      ]
     },
     "execution_count": 14,
     "metadata": {},
     "output_type": "execute_result"
    }
   ],
   "source": [
    "yet_another_list"
   ]
  },
  {
   "cell_type": "code",
   "execution_count": null,
   "metadata": {},
   "outputs": [],
   "source": []
  },
  {
   "cell_type": "code",
   "execution_count": 15,
   "metadata": {},
   "outputs": [],
   "source": [
    "def numberToString(the_list):\n",
    "    another_list = []\n",
    "    \n",
    "    for item in the_list:    \n",
    "        converted_item = str(item)\n",
    "        another_list.append(converted_item)\n",
    "        \n",
    "    return(another_list)"
   ]
  },
  {
   "cell_type": "code",
   "execution_count": null,
   "metadata": {},
   "outputs": [],
   "source": []
  },
  {
   "cell_type": "code",
   "execution_count": 16,
   "metadata": {},
   "outputs": [
    {
     "data": {
      "text/plain": [
       "['1', '2', '3', '4', '5']"
      ]
     },
     "execution_count": 16,
     "metadata": {},
     "output_type": "execute_result"
    }
   ],
   "source": [
    "my_list = [1,2,3,4,5]\n",
    "\n",
    "numberToString(the_list=my_list)"
   ]
  },
  {
   "cell_type": "code",
   "execution_count": 20,
   "metadata": {},
   "outputs": [
    {
     "data": {
      "text/plain": [
       "['1', '2', '3', '4', '5']"
      ]
     },
     "execution_count": 20,
     "metadata": {},
     "output_type": "execute_result"
    }
   ],
   "source": [
    "new_list = [str(number) for number in my_list]\n",
    "new_list"
   ]
  },
  {
   "cell_type": "code",
   "execution_count": 14,
   "metadata": {},
   "outputs": [
    {
     "name": "stdout",
     "output_type": "stream",
     "text": [
      "Basic Calculator Test:\n",
      "10 / 2 = 5.0\n"
     ]
    }
   ],
   "source": [
    "new_list = [str(number) for number in range(10)]\n",
    "new_list\n",
    "\n",
    "\n",
    "def basic_calculator(num1, num2, operation):\n",
    "    if operation == 'sum':\n",
    "        return num1 + num2\n",
    "    elif operation == 'subtract':\n",
    "        return num1 - num2\n",
    "    elif operation == 'multiply':\n",
    "        return num1 * num2\n",
    "    elif operation == 'divide':\n",
    "        \n",
    "        if num2 == 0:\n",
    "            return \"Error: Cannot divide by zero!\"\n",
    "        return num1 / num2\n",
    "    elif operation == 'exponent':\n",
    "        return num1 ** num2\n",
    "    else:\n",
    "        return \"Error: Invalid operation!\"\n",
    "    \n",
    "print(\"Basic Calculator Test:\")\n",
    "print(f\"10 / 2 = {basic_calculator(10, 2, 'divide')}\")"
   ]
  },
  {
   "cell_type": "markdown",
   "metadata": {},
   "source": [
    "Create a small calculator. The function should pick two numbers and perform one of four mathematical operations with it (sum/subtraction, division, multiplication, exponents). The desired operation should be an option (hint: what IF the user wants to do a sum?)\n",
    "\n",
    "Bonus: Make a function that can pick ANY number of numbers."
   ]
  },
  {
   "cell_type": "code",
   "execution_count": 20,
   "metadata": {},
   "outputs": [
    {
     "name": "stdout",
     "output_type": "stream",
     "text": [
      "\n",
      "Multi-Number Calculator Tests:\n",
      "Sum of multiple numbers: 15\n",
      "Subtract multiple numbers: 40\n",
      "Multiply multiple numbers: 24\n",
      "Divide multiple numbers: 25.0\n",
      "Exponent chain: 16\n",
      "\n",
      "Edge Cases:\n",
      "Single number sum: 5\n",
      "Division by zero: Error: Cannot divide by zero!\n"
     ]
    }
   ],
   "source": [
    "def calculator_multi_numbers(*numbers, operation):\n",
    "    if len(numbers) == 0:\n",
    "        return \"Error: No numbers provided!\"\n",
    "    \n",
    "    result = numbers[0]\n",
    "    \n",
    "    if operation == 'sum':\n",
    "        return sum(numbers)\n",
    "    \n",
    "    elif operation == 'subtract':\n",
    "        for num in numbers[1:]:\n",
    "            result -= num\n",
    "        return result\n",
    "    \n",
    "    elif operation == 'multiply':\n",
    "        for num in numbers[1:]:\n",
    "            result *= num\n",
    "        return result\n",
    "    \n",
    "    elif operation == 'divide':\n",
    "        for num in numbers[1:]:\n",
    "            if num == 0:\n",
    "                return \"Error: Cannot divide by zero!\"\n",
    "            result /= num\n",
    "        return result\n",
    "    \n",
    "    elif operation == 'exponent':\n",
    "        for num in numbers[1:]:\n",
    "            result = result ** num\n",
    "        return result\n",
    "    \n",
    "    else:\n",
    "        return \"Error: Invalid operation!\"\n",
    "    \n",
    "    \n",
    "print(\"\\nMulti-Number Calculator Tests:\")\n",
    "print(f\"Sum of multiple numbers: {calculator_multi_numbers(1, 2, 3, 4, 5, operation='sum')}\")\n",
    "print(f\"Subtract multiple numbers: {calculator_multi_numbers(100, 20, 30, 10, operation='subtract')}\")\n",
    "print(f\"Multiply multiple numbers: {calculator_multi_numbers(2, 3, 4, operation='multiply')}\")\n",
    "print(f\"Divide multiple numbers: {calculator_multi_numbers(100, 2, 2, operation='divide')}\")\n",
    "print(f\"Exponent chain: {calculator_multi_numbers(2, 2, 2, operation='exponent')}\")\n",
    "\n",
    "\n",
    "print(\"\\nEdge Cases:\")\n",
    "print(f\"Single number sum: {calculator_multi_numbers(5, operation='sum')}\")\n",
    "print(f\"Division by zero: {calculator_multi_numbers(10, 2, 0, operation='divide')}\")"
   ]
  },
  {
   "cell_type": "markdown",
   "metadata": {},
   "source": [
    "Create a function that check if a number is within a list of numbers."
   ]
  },
  {
   "cell_type": "code",
   "execution_count": 24,
   "metadata": {},
   "outputs": [
    {
     "name": "stdout",
     "output_type": "stream",
     "text": [
      "Number Checking Tests:\n",
      "List to search in: [1, 3, 5, 7, 9, 11, 13, 15]\n",
      "Is 7 in the list? The number 7 was found at position 3\n",
      "Is 10 in the list? The number 10 was not found in the list\n",
      "The number 7 was found at position 3\n",
      "The number 10 was not found in the list\n"
     ]
    }
   ],
   "source": [
    "def check_number(number, number_list):\n",
    "    if number in number_list:\n",
    "        return f\"The number {number} was found at position {number_list.index(number)}\"\n",
    "    else:\n",
    "        return f\"The number {number} was not found in the list\"\n",
    "\n",
    "# Testing the number checking functions\n",
    "test_list = [1, 3, 5, 7, 9, 11, 13, 15]\n",
    "print(\"Number Checking Tests:\")\n",
    "print(f\"List to search in: {test_list}\")\n",
    "print(f\"Is 7 in the list? {check_number(7, test_list)}\")  \n",
    "print(f\"Is 10 in the list? {check_number(10, test_list)}\")  \n",
    "print(check_number(7, test_list))  \n",
    "print(check_number(10, test_list)) \n"
   ]
  },
  {
   "cell_type": "markdown",
   "metadata": {},
   "source": [
    "Bonus: similar to the item above, create a function that checks if a string contains a given substring, e.g. 'I have a cat' contains the string sequence 'cat' or 'ave'."
   ]
  },
  {
   "cell_type": "code",
   "execution_count": 32,
   "metadata": {},
   "outputs": [
    {
     "name": "stdout",
     "output_type": "stream",
     "text": [
      "Looking for 'cat' in 'I have a CAT':\n",
      "False\n"
     ]
    }
   ],
   "source": [
    "def check_substring(main_string, substring):\n",
    "    return substring in main_string\n",
    "\n",
    "test_string = \"I have a CAT\"\n",
    "print(f\"Looking for 'cat' in '{test_string}':\")\n",
    "print(check_substring(test_string, 'cat')) "
   ]
  },
  {
   "cell_type": "markdown",
   "metadata": {},
   "source": [
    "Bonus: create a function that given the initial speed of a projectile that is thrown at 90 degrees will calculate how much time the projectile will take to get back to the initial altitude. (yes you're expected to disregard air resistence)"
   ]
  },
  {
   "cell_type": "code",
   "execution_count": null,
   "metadata": {},
   "outputs": [],
   "source": []
  },
  {
   "cell_type": "markdown",
   "metadata": {},
   "source": [
    "<h1>solve these questions...or ELSE</h1>\n",
    "\n",
    "Why the nested if statement below doesn't only produce the first print? Can you modify it so it produces the desired output?"
   ]
  },
  {
   "cell_type": "code",
   "execution_count": 33,
   "metadata": {},
   "outputs": [
    {
     "name": "stdout",
     "output_type": "stream",
     "text": [
      "Yeeeey!\n"
     ]
    }
   ],
   "source": [
    "food = 'Pizza'\n",
    "drinks = 'Beer'\n",
    "\n",
    "if food == 'Pizza' and drinks == 'Beer':\n",
    "    print('Yeeeey!')\n",
    "elif food == 'Pizza' and drinks != 'Beer':\n",
    "    print('Yey.')\n",
    "elif food != 'Pizza' and drinks == 'Beer':\n",
    "    print('Yey!')\n",
    "else:\n",
    "    print('.....???')"
   ]
  },
  {
   "cell_type": "markdown",
   "metadata": {},
   "source": [
    "<h1> Debugging </h1>\n",
    "None of the blocks of code below work. Your task is to make them work (if possible!) and add markup cells (or comments) explaining why they don't work."
   ]
  },
  {
   "cell_type": "markdown",
   "metadata": {},
   "source": [
    "print(\"Is this working?\")"
   ]
  },
  {
   "cell_type": "code",
   "execution_count": 34,
   "metadata": {},
   "outputs": [],
   "source": [
    "#print(\"does this work?\")"
   ]
  },
  {
   "cell_type": "code",
   "execution_count": 4,
   "metadata": {},
   "outputs": [
    {
     "name": "stdout",
     "output_type": "stream",
     "text": [
      "about now?\n"
     ]
    }
   ],
   "source": [
    "print(\"about now?\")\n",
    "# different quotation marks "
   ]
  },
  {
   "cell_type": "code",
   "execution_count": 36,
   "metadata": {},
   "outputs": [
    {
     "name": "stdout",
     "output_type": "stream",
     "text": [
      "Today on a scale from 1 to 10 I am feeling...10\n"
     ]
    }
   ],
   "source": [
    "text_variable = \"Today on a scale from 1 to 10 I am feeling...\"\n",
    "my_mood = 10\n",
    "print(text_variable + str(my_mood))"
   ]
  },
  {
   "cell_type": "code",
   "execution_count": 37,
   "metadata": {},
   "outputs": [
    {
     "name": "stdout",
     "output_type": "stream",
     "text": [
      "Today on a scale from 1 to 10 I am feeling...10\n"
     ]
    }
   ],
   "source": [
    "text_variable = \"Today on a scale from 1 to 10 I am feeling...\"\n",
    "my_mood = 10\n",
    "print(text_variable + str(my_mood))#Yep there are ways to make it work with a + operator too!"
   ]
  },
  {
   "cell_type": "code",
   "execution_count": 47,
   "metadata": {},
   "outputs": [],
   "source": [
    "a_dictionary = {'item1': 'Value 1',\n",
    "                'item2': 'value 2',}"
   ]
  },
  {
   "cell_type": "code",
   "execution_count": 39,
   "metadata": {},
   "outputs": [
    {
     "data": {
      "text/plain": [
       "True"
      ]
     },
     "execution_count": 39,
     "metadata": {},
     "output_type": "execute_result"
    }
   ],
   "source": [
    "1 == 1 # Should return True"
   ]
  },
  {
   "cell_type": "code",
   "execution_count": 40,
   "metadata": {},
   "outputs": [
    {
     "name": "stdout",
     "output_type": "stream",
     "text": [
      "Clap your hands\n"
     ]
    }
   ],
   "source": [
    "# Why isn't the outcome 'Clap your hands?'\n",
    "mood = 'happy'\n",
    "if mood == 'happy':\n",
    "    print('Clap your hands')\n",
    "else:\n",
    "    print('...do I look like I have this one figured out?')"
   ]
  },
  {
   "cell_type": "code",
   "execution_count": 50,
   "metadata": {},
   "outputs": [
    {
     "name": "stdout",
     "output_type": "stream",
     "text": [
      "a word another word\n"
     ]
    }
   ],
   "source": [
    "def printerfunction(x,y):\n",
    "    print(x,y)\n",
    "\n",
    "printerfunction(\"a word\", \"another word\")"
   ]
  },
  {
   "cell_type": "code",
   "execution_count": 45,
   "metadata": {},
   "outputs": [
    {
     "name": "stdout",
     "output_type": "stream",
     "text": [
      "Clap your hands\n"
     ]
    }
   ],
   "source": [
    "# bonus/annoying round, why is this crashing?\n",
    "mood = 'happy'\n",
    "if mood == 'happy':\n",
    "   print('Clap your hands')\n",
    "else:\n",
    "    print('...do I look like I have this one figured out?')"
   ]
  },
  {
   "cell_type": "code",
   "execution_count": null,
   "metadata": {},
   "outputs": [],
   "source": []
  }
 ],
 "metadata": {
  "kernelspec": {
   "display_name": "Python 3",
   "language": "python",
   "name": "python3"
  },
  "language_info": {
   "codemirror_mode": {
    "name": "ipython",
    "version": 3
   },
   "file_extension": ".py",
   "mimetype": "text/x-python",
   "name": "python",
   "nbconvert_exporter": "python",
   "pygments_lexer": "ipython3",
   "version": "3.8.5"
  }
 },
 "nbformat": 4,
 "nbformat_minor": 4
}
